{
 "cells": [
  {
   "cell_type": "markdown",
   "metadata": {},
   "source": [
    "Conduct association studies with pyseer"
   ]
  },
  {
   "cell_type": "code",
   "execution_count": 1,
   "metadata": {},
   "outputs": [],
   "source": [
    "import pandas as pd\n",
    "import os\n",
    "import numpy as np\n",
    "import seaborn as sns"
   ]
  },
  {
   "cell_type": "code",
   "execution_count": 2,
   "metadata": {},
   "outputs": [
    {
     "name": "stderr",
     "output_type": "stream",
     "text": [
      "/var/folders/x1/qmr8j65954909q2d667p4c05m6yl12/T/ipykernel_59679/2255409710.py:6: SettingWithCopyWarning: \n",
      "A value is trying to be set on a copy of a slice from a DataFrame\n",
      "\n",
      "See the caveats in the documentation: https://pandas.pydata.org/pandas-docs/stable/user_guide/indexing.html#returning-a-view-versus-a-copy\n",
      "  pheno_output.rename(columns = {\"Rename_A\": \"Sample_name\"}, inplace = True)\n",
      "/var/folders/x1/qmr8j65954909q2d667p4c05m6yl12/T/ipykernel_59679/2255409710.py:7: SettingWithCopyWarning: \n",
      "A value is trying to be set on a copy of a slice from a DataFrame\n",
      "\n",
      "See the caveats in the documentation: https://pandas.pydata.org/pandas-docs/stable/user_guide/indexing.html#returning-a-view-versus-a-copy\n",
      "  pheno_output[\"Sample_name\"].replace('', np.nan, inplace = True)\n",
      "/var/folders/x1/qmr8j65954909q2d667p4c05m6yl12/T/ipykernel_59679/2255409710.py:8: SettingWithCopyWarning: \n",
      "A value is trying to be set on a copy of a slice from a DataFrame\n",
      "\n",
      "See the caveats in the documentation: https://pandas.pydata.org/pandas-docs/stable/user_guide/indexing.html#returning-a-view-versus-a-copy\n",
      "  pheno_output.dropna(subset = [\"Sample_name\"], inplace=True)\n"
     ]
    }
   ],
   "source": [
    "# reformat metadata table to phenotype table\n",
    "#metadata = pd.read_csv(\"../results/LymeSeq_SampleTrack - Renaming Scheme Table for Jupyter.2022-07-21.csv\")\n",
    "metadata = pd.read_csv(\"../results/LymeSeq_SampleTrack - Renaming Scheme Table for Jupyter.2023-01-14.csv\")\n",
    "metadata[\"Disseminated_Binary\"] = metadata['Disseminated'].replace(['L','D'], [0,1])\n",
    "pheno_output = metadata[[\"Rename_A\", \"Disseminated_Binary\"]]\n",
    "pheno_output.rename(columns = {\"Rename_A\": \"Sample_name\"}, inplace = True)\n",
    "pheno_output[\"Sample_name\"].replace('', np.nan, inplace = True)\n",
    "pheno_output.dropna(subset = [\"Sample_name\"], inplace=True)\n",
    "pheno_output.to_csv(\"../results/dissemination_phenotype.tsv\",  float_format='%.0f', index = False, sep=\"\\t\")"
   ]
  },
  {
   "cell_type": "code",
   "execution_count": null,
   "metadata": {},
   "outputs": [],
   "source": [
    "## create distance matrix from tree\n",
    "#os.system(\"python ../scripts/phylogeny_distances.py ../results/roary-results/core_gene_alignment_midpoint_rooted.nwk > ../results/roary-results/distance_matrix_from_tree.tsv\")"
   ]
  },
  {
   "cell_type": "code",
   "execution_count": null,
   "metadata": {},
   "outputs": [],
   "source": [
    "## Create similarity matrix from tree\n",
    "#os.system(\"python ../scripts/phylogeny_distances.py --lmm ../results/roary-results/core_gene_alignment_midpoint_rooted.nwk > ../results/roary-results/similarity_matrix_from_tree.tsv\")"
   ]
  },
  {
   "cell_type": "code",
   "execution_count": 34,
   "metadata": {},
   "outputs": [],
   "source": [
    "## run the analysis without lineage correction\n",
    "#os.system(\"pyseer --pres ../results/roary-results/gene_presence_absence.Rtab --phenotypes ../results/dissemination_phenotype.tsv --no-distances > ../results/pyseer_no_distances_dissemination_results.txt\")"
   ]
  },
  {
   "cell_type": "code",
   "execution_count": 35,
   "metadata": {},
   "outputs": [],
   "source": [
    "## run pyseer with default lineage correction\n",
    "#os.system(\"pyseer --pres ../results/roary-results/gene_presence_absence.Rtab --phenotypes ../results/dissemination_phenotype.tsv --distances ../results/roary-results/distance_matrix_from_tree.tsv > ../results/dissemination_results_pyseer_default.txt\")"
   ]
  },
  {
   "cell_type": "code",
   "execution_count": 3,
   "metadata": {},
   "outputs": [
    {
     "name": "stderr",
     "output_type": "stream",
     "text": [
      "Read 298 phenotypes\n",
      "Detected binary phenotype\n",
      "Structure matrix has dimension (299, 299)\n",
      "Analysing 298 samples found in both phenotype and structure matrix\n",
      "No observations of group_1582 in selected samples\n",
      "No observations of group_1610 in selected samples\n",
      "No observations of group_1624 in selected samples\n",
      "No observations of group_1644 in selected samples\n",
      "No observations of group_1645 in selected samples\n",
      "No observations of group_1646 in selected samples\n",
      "3194 loaded variants\n",
      "1866 pre-filtered variants\n",
      "1328 tested variants\n",
      "1328 printed variants\n"
     ]
    },
    {
     "data": {
      "text/plain": [
       "0"
      ]
     },
     "execution_count": 3,
     "metadata": {},
     "output_type": "execute_result"
    }
   ],
   "source": [
    "## run pyseer with default lineage correction and max dimension\n",
    "os.system(\"pyseer --pres ../results/roary-results/gene_presence_absence.Rtab --phenotypes ../results/dissemination_phenotype.tsv --distances ../results/roary-results/distance_matrix_from_tree.tsv --max-dimension 6 > ../results/dissemination_results_pyseer_default_max_dim_6.txt\")"
   ]
  },
  {
   "cell_type": "code",
   "execution_count": 19,
   "metadata": {},
   "outputs": [
    {
     "name": "stderr",
     "output_type": "stream",
     "text": [
      "Must provide a similarity matrix or lmm cache for random effects\n"
     ]
    },
    {
     "data": {
      "text/plain": [
       "256"
      ]
     },
     "execution_count": 19,
     "metadata": {},
     "output_type": "execute_result"
    }
   ],
   "source": [
    "#os.system(\"pyseer --pres ../results/roary-results/gene_presence_absence.Rtab --phenotypes ../results/dissemination_phenotype.tsv --lmm --distances ../results/roary-results/distance_matrix_from_tree.tsv > ../results/dissemination_results_lmm.txt\")"
   ]
  },
  {
   "cell_type": "code",
   "execution_count": 4,
   "metadata": {},
   "outputs": [
    {
     "name": "stderr",
     "output_type": "stream",
     "text": [
      "Read 298 phenotypes\n",
      "Detected binary phenotype\n",
      "Setting up LMM\n",
      "Similarity matrix has dimension (299, 299)\n",
      "Analysing 298 samples found in both phenotype and similarity matrix\n",
      "h^2 = 0.07\n",
      "No observations of group_1582 in selected samples\n",
      "No observations of group_1610 in selected samples\n",
      "No observations of group_1624 in selected samples\n",
      "No observations of group_1644 in selected samples\n",
      "No observations of group_1645 in selected samples\n",
      "No observations of group_1646 in selected samples\n",
      "3194 loaded variants\n",
      "1866 pre-filtered variants\n",
      "1328 tested variants\n",
      "1328 printed variants\n"
     ]
    },
    {
     "data": {
      "text/plain": [
       "0"
      ]
     },
     "execution_count": 4,
     "metadata": {},
     "output_type": "execute_result"
    }
   ],
   "source": [
    "# run pyseer with LMM and similarity matrix\n",
    "os.system(\"pyseer --pres ../results/roary-results/gene_presence_absence.Rtab --phenotypes ../results/dissemination_phenotype.tsv --lmm --similarity ../results/roary-results/similarity_matrix_from_tree.tsv > ../results/dissemination_results_lmm.txt\")"
   ]
  },
  {
   "cell_type": "code",
   "execution_count": 5,
   "metadata": {},
   "outputs": [
    {
     "name": "stderr",
     "output_type": "stream",
     "text": [
      "Read 298 phenotypes\n",
      "Detected binary phenotype\n",
      "Structure matrix has dimension (299, 299)\n",
      "Analysing 298 samples found in both phenotype and structure matrix\n",
      "Writing lineage effects to ../results/roary-results/inferred_lineages.txt\n",
      "No observations of group_1582 in selected samples\n",
      "No observations of group_1610 in selected samples\n",
      "No observations of group_1624 in selected samples\n",
      "No observations of group_1644 in selected samples\n",
      "No observations of group_1645 in selected samples\n",
      "No observations of group_1646 in selected samples\n",
      "3194 loaded variants\n",
      "1866 pre-filtered variants\n",
      "1328 tested variants\n",
      "1328 printed variants\n"
     ]
    },
    {
     "data": {
      "text/plain": [
       "0"
      ]
     },
     "execution_count": 5,
     "metadata": {},
     "output_type": "execute_result"
    }
   ],
   "source": [
    "# run with lineage effects\n",
    "os.system(\"pyseer --pres ../results/roary-results/gene_presence_absence.Rtab --phenotypes ../results/dissemination_phenotype.tsv --lineage --lineage-file ../results/roary-results/inferred_lineages.txt --distances ../results/roary-results/distance_matrix_from_tree.tsv > ../results/dissemination_results_lineage.txt\")"
   ]
  },
  {
   "cell_type": "code",
   "execution_count": null,
   "metadata": {},
   "outputs": [],
   "source": []
  }
 ],
 "metadata": {
  "kernelspec": {
   "display_name": "Python 3 (ipykernel)",
   "language": "python",
   "name": "python3"
  },
  "language_info": {
   "codemirror_mode": {
    "name": "ipython",
    "version": 3
   },
   "file_extension": ".py",
   "mimetype": "text/x-python",
   "name": "python",
   "nbconvert_exporter": "python",
   "pygments_lexer": "ipython3",
   "version": "3.8.5"
  }
 },
 "nbformat": 4,
 "nbformat_minor": 4
}
