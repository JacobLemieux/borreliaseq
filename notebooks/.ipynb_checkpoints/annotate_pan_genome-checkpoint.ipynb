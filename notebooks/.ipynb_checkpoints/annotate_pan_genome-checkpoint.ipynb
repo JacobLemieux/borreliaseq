{
 "cells": [
  {
   "cell_type": "code",
   "execution_count": 1,
   "metadata": {},
   "outputs": [],
   "source": [
    "# annotate pan-genome using BLAST... annotations from Prokka are insufficient."
   ]
  },
  {
   "cell_type": "code",
   "execution_count": 2,
   "metadata": {},
   "outputs": [],
   "source": [
    "from Bio import SeqIO\n",
    "from Bio.SeqRecord import SeqRecord\n",
    "from Bio.Blast import NCBIXML\n",
    "from Bio.Blast.Applications import NcbiblastpCommandline\n",
    "from Bio.Blast.Applications import NcbiblastnCommandline\n",
    "import pandas as pd"
   ]
  },
  {
   "cell_type": "code",
   "execution_count": 112,
   "metadata": {},
   "outputs": [],
   "source": [
    "if False:\n",
    "    f = open(\"blast_annotations.out\", \"w\")\n",
    "    for index, seq_record in enumerate(SeqIO.parse(\"../results/roary-results/pan_genome_reference.fa\", \"fasta\")):\n",
    "        if index % 200 == 0:\n",
    "            print(index)\n",
    "            print(\"blasting\", seq_record.id,\"...\")\n",
    "        new_seq = SeqRecord(seq_record.seq.translate(), id = seq_record.id)\n",
    "        outfile_name = \"tmp.xml\"\n",
    "        SeqIO.write(new_seq, \"tmp.fasta\", \"fasta\")\n",
    "        blastp_cline = NcbiblastpCommandline(query=\"tmp.fasta\", db=\"../blast/B31_translated_cds.faa\", outfmt=5, out=outfile_name)\n",
    "        stdout, stderr = blastp_cline()\n",
    "        result_handle = open(outfile_name)\n",
    "        blast_record = NCBIXML.read(result_handle)\n",
    "        counter = 0\n",
    "        for i, alignment in enumerate(blast_record.alignments):\n",
    "            if i > 0: break # just output the top hit.\n",
    "            f.write(seq_record.id + \"\\t\" + seq_record.description + \"\\t\" + alignment.title + \"\\n\")\n",
    "        # if index > 100: break # for testing\n",
    "    f.close()"
   ]
  },
  {
   "cell_type": "code",
   "execution_count": 114,
   "metadata": {},
   "outputs": [],
   "source": [
    "# parse annotations and write to csv\n",
    "annotation = pd.read_csv(\"blast_annotations.out\", sep=\"\\t\", header = None)\n",
    "annotation[2] = annotation[2].str.replace(\"\\[gene.{4,10}\\]\", \"\", regex=True) # the [gene=] label is messing up parsing, this is quick and dirty\n",
    "annotation[[\"Locus\", \"B31_Annotation\"]] = annotation[2].str.split(pat=\" \\[\", expand=True).iloc[:,1:3]\n",
    "annotation[\"Locus\"] = annotation[\"Locus\"].str[10:-1]\n",
    "annotation[\"B31_Annotation\"] = annotation[\"B31_Annotation\"].str[8:-1]\n",
    "annotation[[\"ID\",\"Group\"]] = annotation[1].str.split(\" \", expand=True)\n",
    "annotation[[\"ID\", \"Group\", \"Locus\", \"B31_Annotation\"]].to_csv(\"../results/roary-results/pan_genome_with_annotation.csv\")"
   ]
  },
  {
   "cell_type": "code",
   "execution_count": null,
   "metadata": {},
   "outputs": [],
   "source": []
  }
 ],
 "metadata": {
  "kernelspec": {
   "display_name": "Python 3",
   "language": "python",
   "name": "python3"
  },
  "language_info": {
   "codemirror_mode": {
    "name": "ipython",
    "version": 3
   },
   "file_extension": ".py",
   "mimetype": "text/x-python",
   "name": "python",
   "nbconvert_exporter": "python",
   "pygments_lexer": "ipython3",
   "version": "3.7.6"
  }
 },
 "nbformat": 4,
 "nbformat_minor": 4
}
