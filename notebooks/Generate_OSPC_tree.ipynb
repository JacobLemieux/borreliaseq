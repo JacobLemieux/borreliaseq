{
 "cells": [
  {
   "cell_type": "markdown",
   "metadata": {},
   "source": [
    "Generate an OSPC tree from the Slovenian and US BBss isolates from Klemen and Ira\n",
    "April 25 2021\n",
    "lemieux@broadinstitute.org"
   ]
  },
  {
   "cell_type": "code",
   "execution_count": 1,
   "metadata": {},
   "outputs": [],
   "source": [
    "import pandas as pd\n",
    "from Bio import SeqIO\n",
    "import os"
   ]
  },
  {
   "cell_type": "code",
   "execution_count": 2,
   "metadata": {},
   "outputs": [],
   "source": [
    "#pres_abs = pd.read_csv(\"../roary/Bbss_combined/spades_assem_4_9_2021/gene_presence_absence.csv\")"
   ]
  },
  {
   "cell_type": "code",
   "execution_count": 3,
   "metadata": {},
   "outputs": [
    {
     "name": "stderr",
     "output_type": "stream",
     "text": [
      "/opt/anaconda3/lib/python3.7/site-packages/IPython/core/interactiveshell.py:3063: DtypeWarning: Columns (17,18,22,24,25,26,27,50,53,57,76,79,83,89,91,94,99,109,110,111,123,125,127,129,132,139,141,147,151,154,162,169,185,186,191,199,201,202,203,204,206,211,213,214,217,220,222,228,230,242,255,257,259,268,270,274,277,278,279,281,284,293,294,309,312) have mixed types. Specify dtype option on import or set low_memory=False.\n",
      "  interactivity=interactivity, compiler=compiler, result=result)\n"
     ]
    }
   ],
   "source": [
    "pres_abs = pd.read_csv(\"../results/roary-results/gene_presence_absence.csv\")"
   ]
  },
  {
   "cell_type": "code",
   "execution_count": 4,
   "metadata": {},
   "outputs": [
    {
     "data": {
      "text/html": [
       "<div>\n",
       "<style scoped>\n",
       "    .dataframe tbody tr th:only-of-type {\n",
       "        vertical-align: middle;\n",
       "    }\n",
       "\n",
       "    .dataframe tbody tr th {\n",
       "        vertical-align: top;\n",
       "    }\n",
       "\n",
       "    .dataframe thead th {\n",
       "        text-align: right;\n",
       "    }\n",
       "</style>\n",
       "<table border=\"1\" class=\"dataframe\">\n",
       "  <thead>\n",
       "    <tr style=\"text-align: right;\">\n",
       "      <th></th>\n",
       "      <th>Gene</th>\n",
       "      <th>Non-unique Gene name</th>\n",
       "      <th>Annotation</th>\n",
       "      <th>No. isolates</th>\n",
       "      <th>No. sequences</th>\n",
       "      <th>Avg sequences per isolate</th>\n",
       "      <th>Genome Fragment</th>\n",
       "      <th>Order within Fragment</th>\n",
       "      <th>Accessory Fragment</th>\n",
       "      <th>Accessory Order with Fragment</th>\n",
       "      <th>...</th>\n",
       "      <th>UWI274</th>\n",
       "      <th>UWI275</th>\n",
       "      <th>UWI276</th>\n",
       "      <th>UWI277</th>\n",
       "      <th>UWI278</th>\n",
       "      <th>UWI279</th>\n",
       "      <th>UWI280</th>\n",
       "      <th>UWI281</th>\n",
       "      <th>UWI282</th>\n",
       "      <th>UWI283</th>\n",
       "    </tr>\n",
       "  </thead>\n",
       "  <tbody>\n",
       "    <tr>\n",
       "      <th>0</th>\n",
       "      <td>mvaA</td>\n",
       "      <td>NaN</td>\n",
       "      <td>3-hydroxy-3-methylglutaryl-coenzyme A reductase</td>\n",
       "      <td>299</td>\n",
       "      <td>300</td>\n",
       "      <td>1.01</td>\n",
       "      <td>1</td>\n",
       "      <td>1995</td>\n",
       "      <td>NaN</td>\n",
       "      <td>NaN</td>\n",
       "      <td>...</td>\n",
       "      <td>EIKACIID_00457</td>\n",
       "      <td>BDNEAJCL_00441</td>\n",
       "      <td>BMBJHJKP_01099</td>\n",
       "      <td>CGOHJBJA_00691</td>\n",
       "      <td>OMNPMPEN_00203</td>\n",
       "      <td>PLAGJJIO_00453</td>\n",
       "      <td>NFDFKCDH_00438</td>\n",
       "      <td>NABAPFHD_00439</td>\n",
       "      <td>AJDJAMLE_00120</td>\n",
       "      <td>JOFNOGJM_00751</td>\n",
       "    </tr>\n",
       "    <tr>\n",
       "      <th>1</th>\n",
       "      <td>tufA</td>\n",
       "      <td>NaN</td>\n",
       "      <td>Elongation factor Tu</td>\n",
       "      <td>299</td>\n",
       "      <td>299</td>\n",
       "      <td>1.00</td>\n",
       "      <td>1</td>\n",
       "      <td>1227</td>\n",
       "      <td>NaN</td>\n",
       "      <td>NaN</td>\n",
       "      <td>...</td>\n",
       "      <td>EIKACIID_00243</td>\n",
       "      <td>BDNEAJCL_00388</td>\n",
       "      <td>BMBJHJKP_01030</td>\n",
       "      <td>CGOHJBJA_00477</td>\n",
       "      <td>OMNPMPEN_00417</td>\n",
       "      <td>PLAGJJIO_00239</td>\n",
       "      <td>NFDFKCDH_00490</td>\n",
       "      <td>NABAPFHD_00608</td>\n",
       "      <td>AJDJAMLE_00334</td>\n",
       "      <td>JOFNOGJM_00177</td>\n",
       "    </tr>\n",
       "    <tr>\n",
       "      <th>2</th>\n",
       "      <td>apt</td>\n",
       "      <td>NaN</td>\n",
       "      <td>Adenine phosphoribosyltransferase</td>\n",
       "      <td>299</td>\n",
       "      <td>300</td>\n",
       "      <td>1.01</td>\n",
       "      <td>1</td>\n",
       "      <td>2087</td>\n",
       "      <td>NaN</td>\n",
       "      <td>NaN</td>\n",
       "      <td>...</td>\n",
       "      <td>EIKACIID_00551</td>\n",
       "      <td>BDNEAJCL_00279</td>\n",
       "      <td>BMBJHJKP_00492</td>\n",
       "      <td>CGOHJBJA_00785</td>\n",
       "      <td>OMNPMPEN_00776</td>\n",
       "      <td>PLAGJJIO_00547</td>\n",
       "      <td>NFDFKCDH_00626</td>\n",
       "      <td>NABAPFHD_00744</td>\n",
       "      <td>AJDJAMLE_00025</td>\n",
       "      <td>JOFNOGJM_00605</td>\n",
       "    </tr>\n",
       "    <tr>\n",
       "      <th>3</th>\n",
       "      <td>rnz</td>\n",
       "      <td>NaN</td>\n",
       "      <td>Ribonuclease Z</td>\n",
       "      <td>299</td>\n",
       "      <td>300</td>\n",
       "      <td>1.01</td>\n",
       "      <td>1</td>\n",
       "      <td>2064</td>\n",
       "      <td>NaN</td>\n",
       "      <td>NaN</td>\n",
       "      <td>...</td>\n",
       "      <td>EIKACIID_00528</td>\n",
       "      <td>BDNEAJCL_00624</td>\n",
       "      <td>BMBJHJKP_00524</td>\n",
       "      <td>CGOHJBJA_00762</td>\n",
       "      <td>OMNPMPEN_00118</td>\n",
       "      <td>PLAGJJIO_00524</td>\n",
       "      <td>NFDFKCDH_00154</td>\n",
       "      <td>NABAPFHD_00511</td>\n",
       "      <td>AJDJAMLE_00049</td>\n",
       "      <td>JOFNOGJM_00582</td>\n",
       "    </tr>\n",
       "    <tr>\n",
       "      <th>4</th>\n",
       "      <td>group_1106</td>\n",
       "      <td>NaN</td>\n",
       "      <td>hypothetical protein</td>\n",
       "      <td>299</td>\n",
       "      <td>300</td>\n",
       "      <td>1.01</td>\n",
       "      <td>1</td>\n",
       "      <td>1985</td>\n",
       "      <td>NaN</td>\n",
       "      <td>NaN</td>\n",
       "      <td>...</td>\n",
       "      <td>EIKACIID_00447</td>\n",
       "      <td>BDNEAJCL_00431</td>\n",
       "      <td>BMBJHJKP_00723</td>\n",
       "      <td>CGOHJBJA_00681</td>\n",
       "      <td>OMNPMPEN_01054</td>\n",
       "      <td>PLAGJJIO_00443</td>\n",
       "      <td>NFDFKCDH_00428</td>\n",
       "      <td>NABAPFHD_00449</td>\n",
       "      <td>AJDJAMLE_00130</td>\n",
       "      <td>JOFNOGJM_00741</td>\n",
       "    </tr>\n",
       "    <tr>\n",
       "      <th>...</th>\n",
       "      <td>...</td>\n",
       "      <td>...</td>\n",
       "      <td>...</td>\n",
       "      <td>...</td>\n",
       "      <td>...</td>\n",
       "      <td>...</td>\n",
       "      <td>...</td>\n",
       "      <td>...</td>\n",
       "      <td>...</td>\n",
       "      <td>...</td>\n",
       "      <td>...</td>\n",
       "      <td>...</td>\n",
       "      <td>...</td>\n",
       "      <td>...</td>\n",
       "      <td>...</td>\n",
       "      <td>...</td>\n",
       "      <td>...</td>\n",
       "      <td>...</td>\n",
       "      <td>...</td>\n",
       "      <td>...</td>\n",
       "      <td>...</td>\n",
       "    </tr>\n",
       "    <tr>\n",
       "      <th>3189</th>\n",
       "      <td>group_758</td>\n",
       "      <td>NaN</td>\n",
       "      <td>hypothetical protein</td>\n",
       "      <td>1</td>\n",
       "      <td>4</td>\n",
       "      <td>4.00</td>\n",
       "      <td>1</td>\n",
       "      <td>86</td>\n",
       "      <td>352.0</td>\n",
       "      <td>1.0</td>\n",
       "      <td>...</td>\n",
       "      <td>NaN</td>\n",
       "      <td>NaN</td>\n",
       "      <td>NaN</td>\n",
       "      <td>NaN</td>\n",
       "      <td>NaN</td>\n",
       "      <td>NaN</td>\n",
       "      <td>NaN</td>\n",
       "      <td>NaN</td>\n",
       "      <td>NaN</td>\n",
       "      <td>NaN</td>\n",
       "    </tr>\n",
       "    <tr>\n",
       "      <th>3190</th>\n",
       "      <td>group_759</td>\n",
       "      <td>NaN</td>\n",
       "      <td>hypothetical protein</td>\n",
       "      <td>1</td>\n",
       "      <td>4</td>\n",
       "      <td>4.00</td>\n",
       "      <td>1</td>\n",
       "      <td>241</td>\n",
       "      <td>353.0</td>\n",
       "      <td>1.0</td>\n",
       "      <td>...</td>\n",
       "      <td>NaN</td>\n",
       "      <td>NaN</td>\n",
       "      <td>NaN</td>\n",
       "      <td>NaN</td>\n",
       "      <td>NaN</td>\n",
       "      <td>NaN</td>\n",
       "      <td>NaN</td>\n",
       "      <td>NaN</td>\n",
       "      <td>NaN</td>\n",
       "      <td>NaN</td>\n",
       "    </tr>\n",
       "    <tr>\n",
       "      <th>3191</th>\n",
       "      <td>group_996</td>\n",
       "      <td>NaN</td>\n",
       "      <td>hypothetical protein</td>\n",
       "      <td>1</td>\n",
       "      <td>3</td>\n",
       "      <td>3.00</td>\n",
       "      <td>134</td>\n",
       "      <td>1</td>\n",
       "      <td>354.0</td>\n",
       "      <td>1.0</td>\n",
       "      <td>...</td>\n",
       "      <td>NaN</td>\n",
       "      <td>NaN</td>\n",
       "      <td>NaN</td>\n",
       "      <td>NaN</td>\n",
       "      <td>NaN</td>\n",
       "      <td>NaN</td>\n",
       "      <td>NaN</td>\n",
       "      <td>NaN</td>\n",
       "      <td>NaN</td>\n",
       "      <td>NaN</td>\n",
       "    </tr>\n",
       "    <tr>\n",
       "      <th>3192</th>\n",
       "      <td>group_997</td>\n",
       "      <td>NaN</td>\n",
       "      <td>hypothetical protein</td>\n",
       "      <td>1</td>\n",
       "      <td>3</td>\n",
       "      <td>3.00</td>\n",
       "      <td>1</td>\n",
       "      <td>361</td>\n",
       "      <td>525.0</td>\n",
       "      <td>1.0</td>\n",
       "      <td>...</td>\n",
       "      <td>NaN</td>\n",
       "      <td>NaN</td>\n",
       "      <td>NaN</td>\n",
       "      <td>NaN</td>\n",
       "      <td>NaN</td>\n",
       "      <td>NaN</td>\n",
       "      <td>NaN</td>\n",
       "      <td>NaN</td>\n",
       "      <td>NaN</td>\n",
       "      <td>NaN</td>\n",
       "    </tr>\n",
       "    <tr>\n",
       "      <th>3193</th>\n",
       "      <td>group_999</td>\n",
       "      <td>NaN</td>\n",
       "      <td>hypothetical protein</td>\n",
       "      <td>1</td>\n",
       "      <td>3</td>\n",
       "      <td>3.00</td>\n",
       "      <td>1</td>\n",
       "      <td>477</td>\n",
       "      <td>1.0</td>\n",
       "      <td>69.0</td>\n",
       "      <td>...</td>\n",
       "      <td>NaN</td>\n",
       "      <td>NaN</td>\n",
       "      <td>NaN</td>\n",
       "      <td>NaN</td>\n",
       "      <td>NaN</td>\n",
       "      <td>NaN</td>\n",
       "      <td>NaN</td>\n",
       "      <td>NaN</td>\n",
       "      <td>NaN</td>\n",
       "      <td>NaN</td>\n",
       "    </tr>\n",
       "  </tbody>\n",
       "</table>\n",
       "<p>3194 rows × 313 columns</p>\n",
       "</div>"
      ],
      "text/plain": [
       "            Gene Non-unique Gene name  \\\n",
       "0           mvaA                  NaN   \n",
       "1           tufA                  NaN   \n",
       "2            apt                  NaN   \n",
       "3            rnz                  NaN   \n",
       "4     group_1106                  NaN   \n",
       "...          ...                  ...   \n",
       "3189   group_758                  NaN   \n",
       "3190   group_759                  NaN   \n",
       "3191   group_996                  NaN   \n",
       "3192   group_997                  NaN   \n",
       "3193   group_999                  NaN   \n",
       "\n",
       "                                           Annotation  No. isolates  \\\n",
       "0     3-hydroxy-3-methylglutaryl-coenzyme A reductase           299   \n",
       "1                                Elongation factor Tu           299   \n",
       "2                   Adenine phosphoribosyltransferase           299   \n",
       "3                                      Ribonuclease Z           299   \n",
       "4                                hypothetical protein           299   \n",
       "...                                               ...           ...   \n",
       "3189                             hypothetical protein             1   \n",
       "3190                             hypothetical protein             1   \n",
       "3191                             hypothetical protein             1   \n",
       "3192                             hypothetical protein             1   \n",
       "3193                             hypothetical protein             1   \n",
       "\n",
       "      No. sequences  Avg sequences per isolate  Genome Fragment  \\\n",
       "0               300                       1.01                1   \n",
       "1               299                       1.00                1   \n",
       "2               300                       1.01                1   \n",
       "3               300                       1.01                1   \n",
       "4               300                       1.01                1   \n",
       "...             ...                        ...              ...   \n",
       "3189              4                       4.00                1   \n",
       "3190              4                       4.00                1   \n",
       "3191              3                       3.00              134   \n",
       "3192              3                       3.00                1   \n",
       "3193              3                       3.00                1   \n",
       "\n",
       "      Order within Fragment  Accessory Fragment  \\\n",
       "0                      1995                 NaN   \n",
       "1                      1227                 NaN   \n",
       "2                      2087                 NaN   \n",
       "3                      2064                 NaN   \n",
       "4                      1985                 NaN   \n",
       "...                     ...                 ...   \n",
       "3189                     86               352.0   \n",
       "3190                    241               353.0   \n",
       "3191                      1               354.0   \n",
       "3192                    361               525.0   \n",
       "3193                    477                 1.0   \n",
       "\n",
       "      Accessory Order with Fragment  ...          UWI274          UWI275  \\\n",
       "0                               NaN  ...  EIKACIID_00457  BDNEAJCL_00441   \n",
       "1                               NaN  ...  EIKACIID_00243  BDNEAJCL_00388   \n",
       "2                               NaN  ...  EIKACIID_00551  BDNEAJCL_00279   \n",
       "3                               NaN  ...  EIKACIID_00528  BDNEAJCL_00624   \n",
       "4                               NaN  ...  EIKACIID_00447  BDNEAJCL_00431   \n",
       "...                             ...  ...             ...             ...   \n",
       "3189                            1.0  ...             NaN             NaN   \n",
       "3190                            1.0  ...             NaN             NaN   \n",
       "3191                            1.0  ...             NaN             NaN   \n",
       "3192                            1.0  ...             NaN             NaN   \n",
       "3193                           69.0  ...             NaN             NaN   \n",
       "\n",
       "              UWI276          UWI277          UWI278          UWI279  \\\n",
       "0     BMBJHJKP_01099  CGOHJBJA_00691  OMNPMPEN_00203  PLAGJJIO_00453   \n",
       "1     BMBJHJKP_01030  CGOHJBJA_00477  OMNPMPEN_00417  PLAGJJIO_00239   \n",
       "2     BMBJHJKP_00492  CGOHJBJA_00785  OMNPMPEN_00776  PLAGJJIO_00547   \n",
       "3     BMBJHJKP_00524  CGOHJBJA_00762  OMNPMPEN_00118  PLAGJJIO_00524   \n",
       "4     BMBJHJKP_00723  CGOHJBJA_00681  OMNPMPEN_01054  PLAGJJIO_00443   \n",
       "...              ...             ...             ...             ...   \n",
       "3189             NaN             NaN             NaN             NaN   \n",
       "3190             NaN             NaN             NaN             NaN   \n",
       "3191             NaN             NaN             NaN             NaN   \n",
       "3192             NaN             NaN             NaN             NaN   \n",
       "3193             NaN             NaN             NaN             NaN   \n",
       "\n",
       "              UWI280          UWI281          UWI282          UWI283  \n",
       "0     NFDFKCDH_00438  NABAPFHD_00439  AJDJAMLE_00120  JOFNOGJM_00751  \n",
       "1     NFDFKCDH_00490  NABAPFHD_00608  AJDJAMLE_00334  JOFNOGJM_00177  \n",
       "2     NFDFKCDH_00626  NABAPFHD_00744  AJDJAMLE_00025  JOFNOGJM_00605  \n",
       "3     NFDFKCDH_00154  NABAPFHD_00511  AJDJAMLE_00049  JOFNOGJM_00582  \n",
       "4     NFDFKCDH_00428  NABAPFHD_00449  AJDJAMLE_00130  JOFNOGJM_00741  \n",
       "...              ...             ...             ...             ...  \n",
       "3189             NaN             NaN             NaN             NaN  \n",
       "3190             NaN             NaN             NaN             NaN  \n",
       "3191             NaN             NaN             NaN             NaN  \n",
       "3192             NaN             NaN             NaN             NaN  \n",
       "3193             NaN             NaN             NaN             NaN  \n",
       "\n",
       "[3194 rows x 313 columns]"
      ]
     },
     "execution_count": 4,
     "metadata": {},
     "output_type": "execute_result"
    }
   ],
   "source": [
    "pres_abs"
   ]
  },
  {
   "cell_type": "code",
   "execution_count": 5,
   "metadata": {},
   "outputs": [],
   "source": [
    "to_match = \"Outer surface protein C\""
   ]
  },
  {
   "cell_type": "code",
   "execution_count": 6,
   "metadata": {},
   "outputs": [],
   "source": [
    "ospC = pres_abs.loc[pres_abs[\"Annotation\"] == to_match, :]"
   ]
  },
  {
   "cell_type": "code",
   "execution_count": 7,
   "metadata": {},
   "outputs": [
    {
     "data": {
      "text/plain": [
       "313"
      ]
     },
     "execution_count": 7,
     "metadata": {},
     "output_type": "execute_result"
    }
   ],
   "source": [
    "ospC[\"No. isolates\"].sum()"
   ]
  },
  {
   "cell_type": "markdown",
   "metadata": {},
   "source": [
    "There are two ways to get a list of ospC proteins: \n",
    "    1. open the annotated prokka files and extract ones with descriptions that are annotated as OspC\n",
    "    2. open the annotated prokka files and extract ones with names corresponding to roary clusters\n",
    "will implement the first one for now."
   ]
  },
  {
   "cell_type": "code",
   "execution_count": 8,
   "metadata": {},
   "outputs": [],
   "source": [
    "colnames = list(ospC)"
   ]
  },
  {
   "cell_type": "code",
   "execution_count": 9,
   "metadata": {},
   "outputs": [],
   "source": [
    "sample_names = colnames[15:]"
   ]
  },
  {
   "cell_type": "code",
   "execution_count": 10,
   "metadata": {},
   "outputs": [],
   "source": [
    "sample_names = [i.split(\"_\")[0] for i in sample_names]"
   ]
  },
  {
   "cell_type": "code",
   "execution_count": 12,
   "metadata": {},
   "outputs": [],
   "source": [
    "#sample_names.remove('UNY252') # note sure why this is missing from our google sheets DB"
   ]
  },
  {
   "cell_type": "code",
   "execution_count": 18,
   "metadata": {},
   "outputs": [
    {
     "data": {
      "text/plain": [
       "['ESI28',\n",
       " 'ESI284',\n",
       " 'ESI285',\n",
       " 'ESI286',\n",
       " 'ESI287',\n",
       " 'ESI288a',\n",
       " 'ESI289',\n",
       " 'ESI290',\n",
       " 'ESI291',\n",
       " 'ESI292']"
      ]
     },
     "execution_count": 18,
     "metadata": {},
     "output_type": "execute_result"
    }
   ],
   "source": [
    "sample_names[0:10]"
   ]
  },
  {
   "cell_type": "code",
   "execution_count": 41,
   "metadata": {},
   "outputs": [],
   "source": [
    "records = []\n",
    "for sample_name in sample_names:\n",
    "    counter = 0\n",
    "    for record in SeqIO.parse(\"../results/prokka/\" + sample_name + \"/prokka_annotated.faa\", \"fasta\"):\n",
    "        if \"Outer surface protein C\" in record.description:\n",
    "            counter += 1\n",
    "            record.id = sample_name + \"_\" + str(counter) + \"_\" + record.id + \"_length_\" + str(len(record.seq))\n",
    "            record.description = \"\"\n",
    "            if len(record.seq) > 190:\n",
    "                records.append(record)"
   ]
  },
  {
   "cell_type": "code",
   "execution_count": 42,
   "metadata": {},
   "outputs": [
    {
     "data": {
      "text/plain": [
       "290"
      ]
     },
     "execution_count": 42,
     "metadata": {},
     "output_type": "execute_result"
    }
   ],
   "source": [
    "#SeqIO.write(records, \"/Users/lemieux/Library/CloudStorage/Box-Box/Borrellia_collaboration/alignments/OspC_alignment_fasta.csv\", \"fasta\")\n",
    "SeqIO.write(records, \"../results/alignments/OspC_alignment_fasta.csv\", \"fasta\")"
   ]
  },
  {
   "cell_type": "code",
   "execution_count": 43,
   "metadata": {},
   "outputs": [
    {
     "data": {
      "text/plain": [
       "298"
      ]
     },
     "execution_count": 43,
     "metadata": {},
     "output_type": "execute_result"
    }
   ],
   "source": [
    "len(sample_names)"
   ]
  },
  {
   "cell_type": "code",
   "execution_count": 46,
   "metadata": {},
   "outputs": [
    {
     "data": {
      "text/plain": [
       "0"
      ]
     },
     "execution_count": 46,
     "metadata": {},
     "output_type": "execute_result"
    }
   ],
   "source": [
    "# align with mafft\n",
    "os.system(\"mafft ../results/alignments/OspC_alignment_fasta.csv > ../results/alignments/OspC_alignment_alignment_5_3_2023.fasta\")"
   ]
  },
  {
   "cell_type": "code",
   "execution_count": 49,
   "metadata": {},
   "outputs": [
    {
     "data": {
      "text/plain": [
       "0"
      ]
     },
     "execution_count": 49,
     "metadata": {},
     "output_type": "execute_result"
    }
   ],
   "source": [
    "# construct tree with fasttree\n",
    "os.system(\"fasttree -gtr ../results/alignments/OspC_alignment_alignment_5_3_2023.fasta > ../results/trees/OspC_full_length_5_3_2023.nwk\")"
   ]
  },
  {
   "cell_type": "markdown",
   "metadata": {},
   "source": [
    "To do (April 24 2021):\n",
    "- add in osp C type information\n",
    "- obtain osp C type information from Ira"
   ]
  },
  {
   "cell_type": "code",
   "execution_count": null,
   "metadata": {},
   "outputs": [],
   "source": []
  }
 ],
 "metadata": {
  "kernelspec": {
   "display_name": "Python 3",
   "language": "python",
   "name": "python3"
  },
  "language_info": {
   "codemirror_mode": {
    "name": "ipython",
    "version": 3
   },
   "file_extension": ".py",
   "mimetype": "text/x-python",
   "name": "python",
   "nbconvert_exporter": "python",
   "pygments_lexer": "ipython3",
   "version": "3.7.6"
  }
 },
 "nbformat": 4,
 "nbformat_minor": 4
}
